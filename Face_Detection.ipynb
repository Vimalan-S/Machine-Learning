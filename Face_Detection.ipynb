{
 "cells": [
  {
   "cell_type": "markdown",
   "metadata": {},
   "source": [
    "Importing OpenCv"
   ]
  },
  {
   "cell_type": "code",
   "execution_count": 4,
   "metadata": {},
   "outputs": [],
   "source": [
    "import cv2 as cv"
   ]
  },
  {
   "cell_type": "markdown",
   "metadata": {},
   "source": [
    "Detecting the Face and Eyes"
   ]
  },
  {
   "cell_type": "code",
   "execution_count": 5,
   "metadata": {},
   "outputs": [],
   "source": [
    "def Detect_face():       \n",
    "    cap = cv.VideoCapture(0,cv.CAP_DSHOW)\n",
    "\n",
    "    if cap.isOpened():\n",
    "        ret,frame = cap.read()\n",
    "    else:\n",
    "        ret = False\n",
    "        \n",
    "    while ret:\n",
    "        ret,frame = cap.read()\n",
    "\n",
    "        # When you load an image using OpenCV it loads that image into BGR color space by default. \n",
    "        # We have to convert it to Gray scale as Opencv face detector expects gray images. \n",
    "        grayscale_image = cv.cvtColor(frame, cv.COLOR_BGR2GRAY)\n",
    "\n",
    "        # We want to load our favorite Haar classifier where XML training files of Face and Eye Detection are stored \n",
    "        face_cascade = cv.CascadeClassifier(r\"C:\\Users\\Mahesh\\OneDrive\\Documents\\Python\\Face Detection\\haarcascade_frontalface_alt.xml\")\n",
    "        eye_cascade = cv.CascadeClassifier(r\"C:\\Users\\Mahesh\\OneDrive\\Documents\\Python\\Face Detection\\haarcascade_eye.xml\")\n",
    "        \n",
    "        # Since we are calling 'detectMultiScale' function on the face and eye cascade, we exactly know what it detects. \n",
    "        # If faces are found, this function returns a list of positions of detected faces as Rect(x,y,w,h)\n",
    "        detected_faces = face_cascade.detectMultiScale(grayscale_image)\n",
    "        detected_eyes  = eye_cascade.detectMultiScale(grayscale_image)\n",
    "        \n",
    "        # let's loop over the list of faces (rectangles) it returned and draw those rectangles using built in OpenCV 'rectangle' function\n",
    "        for(coloumn, row, width, height) in detected_faces:\n",
    "            cv.rectangle(frame, (coloumn, row), (coloumn + width, row + height), (0, 255, 0), 4)\n",
    "\n",
    "        for(coloumn, row, width, height) in detected_eyes:\n",
    "            cv.rectangle(frame, (coloumn, row), (coloumn + width, row + height), (0, 0, 255), 2)\n",
    "\n",
    "        # Displaying the resulting frame    \n",
    "        cv.imshow('image', frame)\n",
    "\n",
    "        # When ‘q’ key to be pressed, we exit the script\n",
    "        if cv.waitKey(1) & 0xFF == ord('q'):\n",
    "            break\n",
    "        \n",
    "    # When everything is done, release the capture        \n",
    "    cv.destroyAllWindows()\n",
    "    cap.release()"
   ]
  },
  {
   "cell_type": "code",
   "execution_count": 6,
   "metadata": {},
   "outputs": [],
   "source": [
    "# Calling the function for Real-time Face Detection\n",
    "Detect_face()"
   ]
  }
 ],
 "metadata": {
  "kernelspec": {
   "display_name": "Python 3.10.1 64-bit",
   "language": "python",
   "name": "python3"
  },
  "language_info": {
   "codemirror_mode": {
    "name": "ipython",
    "version": 3
   },
   "file_extension": ".py",
   "mimetype": "text/x-python",
   "name": "python",
   "nbconvert_exporter": "python",
   "pygments_lexer": "ipython3",
   "version": "3.10.1"
  },
  "orig_nbformat": 4,
  "vscode": {
   "interpreter": {
    "hash": "270f40dea5d1f5a229a1866a00a7f1d145fb5d24523a0eb20cef7127b3753f29"
   }
  }
 },
 "nbformat": 4,
 "nbformat_minor": 2
}
